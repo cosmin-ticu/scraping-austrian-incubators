{
 "cells": [
  {
   "cell_type": "markdown",
   "metadata": {},
   "source": [
    "Set up"
   ]
  },
  {
   "cell_type": "code",
   "execution_count": 32,
   "metadata": {},
   "outputs": [],
   "source": [
    "# Set up the packages required for the webdriver to function\n",
    "# Main package of interest here is selenium\n",
    "\n",
    "from selenium import webdriver\n",
    "from selenium.webdriver.common.by import By\n",
    "from selenium.webdriver.chrome.options import Options\n",
    "import time"
   ]
  },
  {
   "cell_type": "markdown",
   "metadata": {},
   "source": [
    "Download the \"99 Gamechangers\" part of the blog"
   ]
  },
  {
   "cell_type": "code",
   "execution_count": 33,
   "metadata": {},
   "outputs": [],
   "source": [
    "def headless_download_99game(url,chromedriver_dir):\n",
    "    #object of ChromeOptions\n",
    "    op = webdriver.ChromeOptions()\n",
    "\n",
    "    #adding preferences to ChromeOptions\n",
    "    op.add_experimental_option(\"prefs\", {\n",
    "            \"download.prompt_for_download\": False,\n",
    "            \"download.directory_upgrade\": True,\n",
    "            \"safebrowsing_for_trusted_sources_enabled\": False,\n",
    "            \"safebrowsing.enabled\": False\n",
    "    })\n",
    "    op.add_argument(\"--headless\")\n",
    "    op.add_argument(\"--disable-notifications\")\n",
    "    op.add_argument('--no-sandbox')\n",
    "    op.add_argument('--verbose')\n",
    "    op.add_argument(\"--window-size=1700,1080\")\n",
    "\n",
    "    # initialize driver object and point to where your chromedriver should be\n",
    "    driver = webdriver.Chrome(executable_path=chromedriver_dir, options=op)\n",
    "    driver.implicitly_wait(5)\n",
    "    driver.get(url);\n",
    "\n",
    "    time.sleep(5)\n",
    "\n",
    "    button = driver.find_element_by_xpath(\"//*[contains(text(), '99 Gamechangers')]\")\n",
    "    button.location_once_scrolled_into_view\n",
    "    button.click() \n",
    "    time.sleep(5)\n",
    "\n",
    "    content = driver.page_source\n",
    "\n",
    "    with open('D:\\OneDrive - Central European University/Courses/Spring_Term/Data Science 3/Term Project/tech2impact_files/webpage_99gamechangers.html', 'w', encoding=\"utf-8\") as f:\n",
    "        f.write(content)\n",
    "    \n",
    "    # give some time to download file before closing the driver\n",
    "    time.sleep(5)\n",
    "    driver.close()"
   ]
  },
  {
   "cell_type": "code",
   "execution_count": 34,
   "metadata": {},
   "outputs": [],
   "source": [
    "headless_download_99game(\"https://tech2impact.com/insights/\",\"C:/Users/cosmi/Desktop/chromedriver.exe\")"
   ]
  },
  {
   "cell_type": "markdown",
   "metadata": {},
   "source": [
    "Download the \"99 Gamechangers\" part of the blog"
   ]
  },
  {
   "cell_type": "code",
   "execution_count": 42,
   "metadata": {},
   "outputs": [],
   "source": [
    "def headless_download_insights(url,chromedriver_dir):\n",
    "    #object of ChromeOptions\n",
    "    op = webdriver.ChromeOptions()\n",
    "\n",
    "    #adding preferences to ChromeOptions\n",
    "    op.add_experimental_option(\"prefs\", {\n",
    "            \"download.prompt_for_download\": False,\n",
    "            \"download.directory_upgrade\": True,\n",
    "            \"safebrowsing_for_trusted_sources_enabled\": False,\n",
    "            \"safebrowsing.enabled\": False\n",
    "    })\n",
    "    op.add_argument(\"--headless\")\n",
    "    op.add_argument(\"--disable-notifications\")\n",
    "    op.add_argument('--no-sandbox')\n",
    "    op.add_argument('--verbose')\n",
    "    op.add_argument(\"--window-size=1700,1080\")\n",
    "\n",
    "    # initialize driver object and point to where your chromedriver should be\n",
    "    driver = webdriver.Chrome(executable_path=chromedriver_dir, options=op)\n",
    "    driver.implicitly_wait(5)\n",
    "    driver.get(url);\n",
    "\n",
    "    content = driver.page_source\n",
    "\n",
    "    with open('D:\\OneDrive - Central European University/Courses/Spring_Term/Data Science 3/Term Project/tech2impact_files/webpage_insights.html', 'w', encoding=\"utf-8\") as f:\n",
    "        f.write(content)\n",
    "    \n",
    "    # give some time to download file before closing the driver\n",
    "    time.sleep(5)\n",
    "    driver.close()"
   ]
  },
  {
   "cell_type": "code",
   "execution_count": 43,
   "metadata": {},
   "outputs": [],
   "source": [
    "headless_download_insights(\"https://tech2impact.com/insights/\",\"C:/Users/cosmi/Desktop/chromedriver.exe\")"
   ]
  }
 ],
 "metadata": {
  "kernelspec": {
   "display_name": "Python 3",
   "language": "python",
   "name": "python3"
  },
  "language_info": {
   "codemirror_mode": {
    "name": "ipython",
    "version": 3
   },
   "file_extension": ".py",
   "mimetype": "text/x-python",
   "name": "python",
   "nbconvert_exporter": "python",
   "pygments_lexer": "ipython3",
   "version": "3.8.5"
  }
 },
 "nbformat": 4,
 "nbformat_minor": 4
}
